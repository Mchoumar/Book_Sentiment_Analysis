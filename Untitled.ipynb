{
 "cells": [
  {
   "cell_type": "markdown",
   "id": "a41291ac-6a5b-45eb-a88f-5bcbf853e095",
   "metadata": {},
   "source": [
    "# Load the book"
   ]
  },
  {
   "cell_type": "code",
   "execution_count": 2,
   "id": "3e719ad5-bc25-46ed-99a2-62e5ea146e56",
   "metadata": {
    "tags": []
   },
   "outputs": [],
   "source": [
    "with open(\"miracle_in_the_andes.txt\", \"r\", encoding=\"utf-8\") as file:\n",
    "    book = file.read()"
   ]
  },
  {
   "cell_type": "markdown",
   "id": "174a1974-6293-47a5-bdc4-1cece8b74f65",
   "metadata": {},
   "source": [
    "# Extract the paragraphs where \"love\" was used "
   ]
  },
  {
   "cell_type": "code",
   "execution_count": 3,
   "id": "f35b7196-ff98-4473-aa2a-911647ce19e5",
   "metadata": {
    "tags": []
   },
   "outputs": [],
   "source": [
    "import re"
   ]
  },
  {
   "cell_type": "code",
   "execution_count": 5,
   "id": "a2dbb6c8-d51e-41ab-b834-ba4adb53383c",
   "metadata": {
    "tags": []
   },
   "outputs": [
    {
     "data": {
      "text/plain": [
       "['As a young man, of course, I could not put these things into words, but I knew, and my teammates knew, that there was something special about the game, and under the guidance of the Christian Brothers we developed a passionate love for the sport that shaped our friendships and our lives. For eight years we played our hearts out for the Christian Brothers—a brotherhood of young boys with Latin names, playing a game with deep Anglo roots under Uruguay’s sunny skies, and proudly wearing the bright green shamrock on our uniforms. The game became so much a part of our lives, in fact, that when we graduated from Stella Maris at the age of sixteen, many of us could not bear the thought that our playing days were over. Our salvation came in the form of the Old Christians Club, a private rugby team formed in 1965 by previous alumni of the Stella Maris rugby program to give Stella Maris ruggers a chance to continue playing the game after our school years ended.',\n",
       " 'Guido and I grew up together, playing soccer and sharing a love of motorcycles, cars, and auto racing. When I was fifteen we both had mopeds that we had modified in silly ways—removing the mufflers, turn signals, and fenders—and we would ride them to Las Delicias, a famous ice cream parlor in our neighborhood, where we would drool over the girls from the nearby School Sagrado Corazón, hoping to impress them with our souped-up scooters. Guido was a dependable friend, with a good sense of humor and an easy laugh. He was also an outstanding scrum half, as quick and smart as a fox, with good hands and great courage. Under the guidance of the Christian Brothers, both of us grew to love the game of rugby with a consuming passion. As seasons passed we worked hard to improve our skills, and by the time I was fifteen we had each earned a spot on the Stella Maris First XV, the team’s starting lineup. After graduation, both of us went on to join the Old Christians and spent several happy seasons pursuing the high-octane social life of young rugby players. That rowdiness came to an abrupt end for Guido in 1969, when he met and fell in love with the beautiful daughter of a Chilean diplomat. She was now his fiancée, and he was happy to behave himself for her sake.',\n",
       " 'I believe he had a great hunger for the love and comforts of a family that was happy and whole. In any case, it did not take me long to realize that despite all the natural gifts he had been blessed with, all the things I envied him for, he envied me more for the one thing I had that he could only dream of—my sisters, my grandmother, my mother and father, all of us together in a close and happy home.',\n",
       " 'He shared, with my father and me, a love for cars and driving, and he loved going with us to auto races. To Susy, he was a second big brother. My mother had a special affection for him. I remember that he would boost himself up on the kitchen counter while she cooked, and they would talk for hours. Often she would tease him about his obsession with girls. “It’s all you think about,” she would say. “When are you going to grow up?”',\n",
       " 'The house had a beautiful view of the sea, and this more than anything made my mother love it. I still remember the delight in her voice when she told us, “We can watch the sunset over the water!” Her blue eyes were shining with tears. She had started out with so little, and now she had found her dream house, a place that would be home for a lifetime.',\n",
       " 'She was a true tower of strength, but her strength was always based in warmth and love and because of her love and protection I grew up believing the world was a safe, familiar place.',\n",
       " 'He had given us a life of comfort and privilege such as his own father never could have imagined, he had provided for us and protected us in the best way he could, and though he was not an emotionally expressive man, he always showed his love for us subtly, quietly, and in ways that were true to the man he was. When I was small, he would take me to the hardware store, walk me along the shelves, and patiently share with me the secrets of all the shiny merchandise on which our family’s prosperity had been founded: This is a toggle bolt, Nando. You use this to fasten things to a hollow wall. This is a grommet—it reinforces a hole in a canvas tarp so you can thread a rope through it to tie it down. This is an anchor bolt. This is a carriage bolt. These are wing nuts. Here is where we keep the washers—split washers, lock washers, ring washers, and flat washers in every size. We have lag screws, Phillips head screws, slotted screws, machine screws, wood screws, self-tapping screws … there are common nails, finish nails, roofing nails, ring-shank nails, box nails, masonry nails, double-headed nails, more kinds of nails than you can imagine.…',\n",
       " 'Out of love for his family he had arranged in his mind a future that would keep us all safe, happy, and always together. He had planned well and paid attention to all the details. The Parrados would always be fortunate people. He believed in this so firmly, and our trust for him was so strong, how could we ever doubt him?',\n",
       " 'Susy shared my mother’s love for the closeness of family, but she was no stay-at-home girl. She had many friends, she loved music and dancing and parties, and as much as she adored our home life in Montevideo, she always dreamed of seeing other places. When she was sixteen she spent a year as an exchange student living with a family in Florida, an experience that taught her to love the U.S.A. “Anything is possible there,” she would tell me. “You can dream anything and make it come true!” It was her dream to do her college studies in the States, and often she would suggest that she might end up staying there even longer. “Who knows?” she would say. “I might meet my husband there, and become an American for good!”',\n",
       " 'Take care of the people you love. The words inspired nothing in me but a black sense of loss.',\n",
       " 'As I lay beside her, the sweetness of my love for her, for my lost friends and my family, for the suddenly fragile notion of my own life and future, swelled in my heart with an ache so profound it sapped all my strength, and for a moment I thought I would pass out. But I steadied myself and eased closer to Susy, wrapping my arms around her as gently as I could, mindful of her injuries and fighting the urge to squeeze her with all my might. I pressed my cheek against hers so I could feel her warm breath on my face, and held her that way all night, gently, but very close, never letting go, embracing her as if I were embracing all the love and peace and joy I had ever known and would ever know; as if by holding on tight I could keep everything precious from slipping away.',\n",
       " 'I felt my love for my father tugging at me like a lifeline, drawing me toward those barren slopes. Staring west, I made a silent vow to my father. I will struggle. I will come home. I will not let the bond between us be broken. I promise you, I will not die here! I will not die here!',\n",
       " 'In the days after Susy died, my love for my father was the only thing that kept me sane, and time after time I would calm myself by reaffirming the promise I had made at Susy’s grave: to return to him; to show him I had survived and to ease his suffering a little. My heart swelled with longing to be with him, and not a moment passed that I did not picture him in his anguish. Who was comforting him? How was he fighting off despair? I imagined him wandering at night from one empty room to another, or tossing until dawn in his bed. How it must torture him to feel so helpless. How betrayed he must feel—to have spent a lifetime protecting and providing for the family he cherished, only to have that family ripped away. He was the strongest man I knew, but was he strong enough to endure this kind of loss? Would he keep his sanity? Would he lose all hope and his will to live? Sometimes my imagination got the best of me, and I worried that he might harm himself, choosing to end his suffering and join his loved ones in death.',\n",
       " 'Thinking of my father this way always triggered in me a burst of love so radiant and urgent that it took my breath away. I couldn’t stand the thought that he would suffer one second longer. In my desperation, I raged silently at the great peaks that loomed above the crash site, blocking the path to my father, and trapping me in this evil place where I could do nothing to ease his pain. That claustrophobic frustration gnawed at me until, like a man buried alive, I began to panic. Every moment that passed was filled with a visceral fear, as if the earth beneath my feet were a ticking bomb that might explode at any second; as if I stood blindfolded before a firing squad, waiting to feel the bullets slam into my chest. This terrifying sense of vulnerability—the certainty that doom was only moments away—never rested. It filled every moment of my time on the mountain. It became the backdrop for every thought and conversation. And it produced in me a manic urge to flee. I fought this fear the best I could, trying to calm myself and think clearly, but there were moments when animal instinct threatened to overcome reason, and it would take all my strength to keep from bolting off blindly into the cordillera.',\n",
       " 'I don’t pray to God for forgiveness or favors, I only pray to be closer to Him, and when I pray, I fill my heart with love. When I pray this way, I know that God is love. When I feel that love, I remember that we don’t need angels or a heaven, because we are a part of God already.”',\n",
       " 'Bobby, are you warm enough? Do you want me to rub your feet?” She worried constantly about the children she had left at home, but still she had the courage and love to mother these frightened boys who were so far from their families. She became a second mother for all of us, and she was everything you would want a mother to be: strong, soft, loving, patient, and very brave.',\n",
       " 'It was our job to follow His commandments, to take the sacraments, to love God and to love others as Jesus had taught us. This was the wisdom that formed the foundation of his life and shaped his character. It was also the source of his great confidence on the field, his sure-footedness as our captain, and the charisma that made him such a strong leader. It is easy to follow a man who has no doubts. We had always trusted in Marcelo completely. How could he allow himself to falter now, when we needed him the most?',\n",
       " 'I would think of him and let my heart fill with love for him, and this love would be stronger than my suffering, or my fear. After two weeks on the mountain, my love for my father had taken on the irresistible power of a biological drive. I knew that someday I would have to climb, even though I’d be climbing to my doom. But what did it matter? I was a dead man already. Why not die in the mountains, fighting for each step, so that when I died, I would die one step closer to home? I was ready to face such a death, but as inevitable as that death seemed, I still felt a flicker of hope that I might somehow stumble through the wilderness and make it home. The thought of leaving the fuselage terrified me, even though I couldn’t wait to leave. I knew that somehow I would find the courage to face the mountains; I also knew I would never be brave enough to face them alone. I needed a companion for the journey, someone who would make me stronger and better, and so I began to study the others, weighing their strengths, their temperaments, their performance under pressure, trying to imagine which of these ragged, starving, frightened boys I would most want by my side.',\n",
       " 'All we can do is love God and love others and trust in God’s will.”',\n",
       " 'I can feel His love, Nando. There’s so much love, I want to cry.”',\n",
       " 'Even if we are trapped here forever, we can love our families, and God, and each other as long as we live. Even in this place, our lives are worth living.”',\n",
       " 'You will tell my family that I love them, won’t you? That’s all that matters to me now.”',\n",
       " 'But he lived so many lifetimes, had so many adventures, and, macho, he made love to so many beautiful girls.”',\n",
       " 'The shoes were magical for me because my mother had chosen them with such love for her grandson, and had handled them so tenderly on the plane. “Keep this,” I told him. “I’ll keep the other one. When I come back for you, we’ll have a pair again.”',\n",
       " 'My love for my father swelled in my heart, and I realized that, despite the hopelessness of my situation, the memory of him filled me with joy. It staggered me: The mountains, for all their power, were not stronger than my attachment to my father. They could not crush my ability to love. I felt a moment of calmness and clarity, and in that clarity of mind I discovered a simple, astounding secret: Death has an opposite, but the opposite is not mere living. It is not courage or faith or human will. The opposite of death is love. How had I missed that? How does anyone miss that? Love is our only weapon. Only love can turn mere life into a miracle, and draw precious meaning from suffering and fear. For a brief, magical moment, all my fears lifted, and I knew that I would not let death control me. I would walk through the godforsaken country that separated me from my home with love and hope in my heart. I would walk until I had walked all the life out of me, and when I fell I would die that much closer to my father. These thoughts strengthened me, and with renewed hope I began to search for pathways through the mountains. Soon I heard Tintin’s voice calling to me from the slope below.',\n",
       " 'I’ve never been in love.”\\n\\n“Really?” he laughed. “All those girls you chased with Panchito? None of them ever stole your heart?”',\n",
       " 'But still, still, I longed for the very things I knew I would never have—the love of a wife, a family of my own, a reunion with my grandmother and older sister, and always the embrace of my father. My ordeal had simplified my mind and whittled me down very close to the essence of what I was, and now I saw that this longing, this love and affection for the very idea of my life, was a deeper part of me than hopelessness or fear or pain or hunger. It seemed to live on beyond all reason. I wondered how durable it was. How much longer would it survive? And if it finally faded, would that be the moment my body failed? Or would it persist to my last conscious moment? Would I die longing for the life I couldn’t have?',\n",
       " 'In seconds she was in my arms, and my heart swelled with love as I held her. With her was her husband, Juan, his eyes bright with tears, and for a moment the three of us embraced without a word. Then I looked up. At the end of the hallway, standing motionless in the thin fluorescent light, was the slim, bowed figure of my father. I walked to him and embraced him, then I hoisted him in my arms until his feet left the ground. “You see, Papá,” I whispered as I set him down again, “I am still strong enough to lift you.” He pressed himself against me, touching me, convincing himself that I was real. I held him for a long time, feeling his body tremble gently as he wept. For a while neither of us spoke. Then, with his head still pressed to my chest, he whispered, “Mami? Susy?”',\n",
       " 'There was so much I wanted to tell him, that I had thought of him every moment, that his love had been the guiding light that led me to safety. But there would be time for that later. Right now I wanted to treasure every moment of our reunion, bittersweet as it was. At first it was hard to convince myself that this moment, the moment I had dreamed of for so long, was real. My mind was moving slowly, and my emotions were oddly muted. I felt no sense of elation or triumph, just a gentle glow of safety and peace. There were no words to explain how I felt, so I simply sat in silence. After a while we heard sounds of celebration in the hallway as the families of the other survivors found their sons. My sister rose and closed the door, and in the privacy of my room, I shared with what was left of my family the simple miracle of being together again.',\n",
       " 'The papers called our return “The Christmas Miracle,” and many people were regarding us as almost mystical figures: young boys who had been saved by the direct intercession of God, living proof of His love. News of our survival was making headlines around the globe, and public interest was intense. The Sheraton’s lobby and the streets outside the hotel were jammed, around the clock, with reporters and news crews waiting to pounce upon our every move. We could not go to a café for a snack, or have a quiet conversation with our families, without a horde of journalists poking microphones at us and firing flashbulbs in our faces.',\n",
       " 'Where should I begin? “I love it,” I said, finally. “I have loved racing since I was a kid. You are my favorite driver. I’ve read your books. I know all your races, I have your poster in my room …” I don’t know how long I rambled on like this, but I wanted him to understand that I was no mere fawning fan. I wanted him to know I had studied his techniques and that I respected his mastery of the sport—the virtuosity with which he pushed his car to the limits of physics without going over the top, how he balanced aggressiveness and grace, risk and control. I wanted him to see that I understood racing in my soul, and knew that good driving was more poetry than machismo.',\n",
       " 'I tried to be on my best behavior, but already I was madly in love, and it required all my effort to take my eyes off Veronique, and to remind myself there was anyone else in the room.',\n",
       " 'She stepped off the train with only a backpack and a small duffel, looking very beautiful, and I fell in love with her all over again. Veronique came with me to Jarama, then we traveled to Morocco and vacationed there for a couple of weeks. I realized I was facing a great decision. I had proven to myself that I had the makings of a top-flight driver, but to make that dream come true would require an ever-increasing commitment to the sport of racing. Driving would have to be the center of my life, and that was not the sort of life, I knew, that would interest a woman like Veronique. Could I give up all my racing dreams, the dreams of a lifetime, just as they were about to come true? I knew that if we settled down together, it would be in Uruguay. Did I have the strength to trade the glamorous life I was living for long days toiling at my father’s hardware stores, balancing books, filling orders, tracking shipments of nuts and bolts? In the end, there really was no question. The lessons I’d learned on the mountain prevented me from doing anything but choosing correctly; I would make a future with the woman I loved.',\n",
       " 'Until then, I had thought I could never love anything as much as I loved my wife, but when I gazed into my baby’s face, I was struck senseless by my love for her. Just moments after her birth, she had become yet another treasure in my life, and I knew I would die for her without hesitation. From the start, I savored every moment of fatherhood. I loved changing her diapers, feeding her, bathing her, putting her to bed. Sometimes I would hold her, amazed by the sweetness and perfection of her little body, and realize that if I hadn’t found my way out of the Andes, this beautiful little person would not exist. I felt a sudden, staggering sense of gratitude for the rich joys of my life—I had been given so much love and happiness—and I realized that every grueling step I had taken through that godforsaken wilderness was a step toward the tiny, precious miracle I held in my arms.',\n",
       " 'We are bonded by our suffering and our losses, but also by a great sense of mutual respect and, of course, a deep, unquestioned love. I don’t know if my father has ever understood how important he was to me when I was lost. I’ll never forget what he told me, soon after I returned from the Andes. “I planned everything for you, Nando,” he said. “For Mami and Susy and Graciela. Everything was taken care of. I had written the story of your lives like a book. But I did not plan for this to happen. I did not write this chapter. Chapters were there.”',\n",
       " 'Mostly, he saved me with his love. He was never an openly affectionate man, but I never doubted his love when I was a boy. It was quiet love, but solid and deep and enduring. When I was in the mountains, stranded in the shadows of death, that love was like a safety line anchored in the world of the living. As long as I held on to that love, I was not lost, I was connected to my home and to my future, and in the end it was that strong cord of love that led me out of danger. When he thought that all of us were dead, my father despaired, and in his pain he gave up his hope for us. But it was not his hope that I needed. He saved me simply by being the father I love.',\n",
       " 'There was love, the love in my heart, and for one incredible moment, as I felt this love swell—love for my father, for my future, for the simple wonder of being alive—death lost its power. In that moment, I stopped running from death. Instead, I made every step a step toward love, and that saved me. I have never stopped moving toward love. Life has blessed me with material success. I like fast cars, good wine, fine food. I love to travel. I have a beautiful house in Montevideo, and another one at the beach. I believe life should be enjoyed, but my experiences have taught me that without the love of my family and my friends, all the trappings of worldly success would ring hollow. I also know that I would be a happy man if all those trappings were taken from me, as long as I am close to the people I love.',\n",
       " 'I savor them and let each one become a miniature eternity, and by living these small moments of my life so fully, I defy the shadow of death that hovers over all of us, I reaffirm my love and gratitude for all the gifts I’ve been given, and I fill myself more and more deeply with life.',\n",
       " 'It seemed to reach me through my own feelings of love, and I have often thought that when we feel what we call love, we are really feeling our connection to this awesome presence. I feel this presence still when my mind quiets and I really pay attention. I don’t pretend to understand what it is or what it wants from me. I don’t want to understand these things. I have no interest in any God who can be understood, who speaks to us in one holy book or another, and who tinkers with our lives according to some divine plan, as if we were characters in a play. How can I make sense of a God who sets one religion above the rest, who answers one prayer and ignores another, who sends sixteen young men home and leaves twenty-nine others dead on a mountain?',\n",
       " 'Instead, I imagine love, an ocean of love, the very source of love, and I imagine myself merging with it. I open myself to it, I try to direct that tide of love toward the people who are close to me, hoping to protect them and bind them to me forever and connect us all to whatever there is in the world that is eternal. This is a very private thing for me, and I don’t try to analyze what it means. I simply like the way it makes me feel. When I pray this way, I feel as if I am connected to something good and whole and powerful. In the mountains, it was love that kept me connected to the world of the living. Courage or cleverness wouldn’t have saved me. I had no expertise to draw on, so I relied upon the trust I felt in my love for my father and my future, and that trust led me home. Since then, it has led me to a deeper understanding of who I am and what it means to be human. Now I am convinced that if there is something divine in the universe, the only way I will find it is through the love I feel for my family and my friends, and through the simple wonder of being alive. I don’t need any other wisdom or philosophy than this: My duty is to fill my time on earth with as much life as possible, to become a little more human every day, and to understand that we only become human when we love. I have tried to love my friends with a loyal and generous heart. I have loved my children with all my strength. And I have loved one woman and that has filled my life with meaning and joy. I have suffered great losses and have been blessed with great consolations, but whatever life may give me or take away, this is the simple wisdom that will always light my life: I have loved, passionately, fearlessly, with all my heart and all my soul, and I have been loved in return. For me, this is enough.']"
      ]
     },
     "execution_count": 5,
     "metadata": {},
     "output_type": "execute_result"
    }
   ],
   "source": [
    "pattern = re.compile(\"[A-Z]{1}[^.]*[^a-zA-Z]+love[^a-zA-Z]+[^\\n]*.\")\n",
    "find = re.findall(pattern, book)\n",
    "find"
   ]
  },
  {
   "cell_type": "markdown",
   "id": "64f4db79-beb3-4ee0-abcb-79083e1884e8",
   "metadata": {},
   "source": [
    "# Extract the chapter titles"
   ]
  },
  {
   "cell_type": "code",
   "execution_count": 70,
   "id": "e67a77e4-68fd-4ef5-bfcd-c1f73f54c807",
   "metadata": {
    "tags": []
   },
   "outputs": [
    {
     "data": {
      "text/plain": [
       "['Chapter 1\\n\\nBefore',\n",
       " 'Chapter 2\\n\\nEverything Precious',\n",
       " 'Chapter 3\\n\\nA Promise',\n",
       " 'Chapter 4\\n\\nBreathe Once More',\n",
       " 'Chapter 5\\n\\nAbandoned',\n",
       " 'Chapter 6\\n\\nTomb',\n",
       " 'Chapter 7\\n\\nEast',\n",
       " 'Chapter 8\\n\\nThe Opposite of Death',\n",
       " 'Chapter 9\\n\\nI See a Man',\n",
       " 'Chapter 10\\n\\nAfter']"
      ]
     },
     "execution_count": 70,
     "metadata": {},
     "output_type": "execute_result"
    }
   ],
   "source": [
    "pattern = re.compile(\"Chapter [0-9]+[^a-zA-Z]*[a-zA-Z ]+[^\\na-zA-Z.,]*\")\n",
    "finder = re.findall(pattern, book)\n",
    "finder"
   ]
  },
  {
   "cell_type": "markdown",
   "id": "c9be4923-b8b9-423d-9a70-6c66e5023459",
   "metadata": {},
   "source": [
    "# Function that finds the occurrence of any word"
   ]
  },
  {
   "cell_type": "code",
   "execution_count": 92,
   "id": "644dc1a4-59cc-4895-98ad-cc43c737a8dc",
   "metadata": {
    "tags": []
   },
   "outputs": [],
   "source": [
    "def find_all(text):\n",
    "    d = {}\n",
    "    most_occurences = re.compile(\"[a-zA-Z]+\")\n",
    "    finder = re.findall(most_occurences, book.lower())\n",
    "    check = False\n",
    "    for word in finder:\n",
    "        if word == text:\n",
    "            if word in d.keys():\n",
    "                d[word] = d[word] + 1\n",
    "            else:\n",
    "                d[word] = 1  \n",
    "            check = True\n",
    "    if check:\n",
    "        return d\n",
    "    else:\n",
    "        return f\"The book does not contain the word \\\"{text}\\\"\""
   ]
  },
  {
   "cell_type": "markdown",
   "id": "7e793b73-02e3-4252-905a-768760b03528",
   "metadata": {},
   "source": [
    "# Call the function"
   ]
  },
  {
   "cell_type": "code",
   "execution_count": 94,
   "id": "76d02d30-dea1-47c8-805a-262f8ac491c3",
   "metadata": {
    "tags": []
   },
   "outputs": [
    {
     "data": {
      "text/plain": [
       "'The book does not contain the word \"hate\"'"
      ]
     },
     "execution_count": 94,
     "metadata": {},
     "output_type": "execute_result"
    }
   ],
   "source": [
    "find_all(\"hate\")"
   ]
  }
 ],
 "metadata": {
  "kernelspec": {
   "display_name": "Python 3 (ipykernel)",
   "language": "python",
   "name": "python3"
  },
  "language_info": {
   "codemirror_mode": {
    "name": "ipython",
    "version": 3
   },
   "file_extension": ".py",
   "mimetype": "text/x-python",
   "name": "python",
   "nbconvert_exporter": "python",
   "pygments_lexer": "ipython3",
   "version": "3.10.10"
  }
 },
 "nbformat": 4,
 "nbformat_minor": 5
}
